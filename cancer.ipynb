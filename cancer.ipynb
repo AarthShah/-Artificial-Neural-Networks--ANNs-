{
 "cells": [
  {
   "cell_type": "code",
   "execution_count": 1,
   "metadata": {},
   "outputs": [],
   "source": [
    "def ArtificalNuralnetwork(input_data, weights, bias):\n",
    "\t# Calculate the weighted sum of inputs\n",
    "\tweight_sum = sum(i * w for i, w in zip(input_data, weights))\n",
    "\t\n",
    "\t# Apply activation function (e.g., sigmoid)\n",
    "\tweight_sum += bias\n",
    "\tif weight_sum > 0:\n",
    "\t\treturn 1\n",
    "\t\n",
    "\treturn 0"
   ]
  },
  {
   "cell_type": "code",
   "execution_count": 2,
   "metadata": {},
   "outputs": [],
   "source": [
    "\n",
    "lifestyle_risk = int(input(\"Enter the number of things the person does from (Alcohol Consumption, Smoking, and Tobacco): \"))\n",
    "\n",
    "digestive_symptoms = int(input(\"Enter the number of symptoms the person has from (Abdominal Pain, Blood in Stool, Difficulty Swallowing): \"))\n",
    "\n",
    "respiratory_symptoms = int(input(\"Enter the number of symptoms the person has from (Persistent Cough, Shortness of Breath, Coughing Up Blood): \"))\n",
    "\n",
    "genetic_history = int(input(\"Enter the number of things the person has from (Family Cancer History, Genetic Mutations): \"))\n",
    "\n",
    "physical_symptoms = int(input(\"Enter the number of symptoms the person has from (Unexplained Weight Loss, Persistent Fatigue): \"))\n",
    "\n",
    "environmental_exposures = int(input(\"Enter the number of exposures the person has from (Chemical Exposure, Radiation Exposure, Asbestos Exposure): \"))\n"
   ]
  },
  {
   "cell_type": "code",
   "execution_count": 3,
   "metadata": {},
   "outputs": [],
   "source": [
    "input_data = [lifestyle_risk, digestive_symptoms, respiratory_symptoms, genetic_history, physical_symptoms, environmental_exposures]\n",
    "weights = [0.304, 0.2, 0.3, 0.53, 0.25, 0.35]\n",
    "bias=-1.2"
   ]
  },
  {
   "cell_type": "code",
   "execution_count": 4,
   "metadata": {},
   "outputs": [
    {
     "name": "stdout",
     "output_type": "stream",
     "text": [
      "The person is not at risk of developing cancer.\n"
     ]
    }
   ],
   "source": [
    "result = ArtificalNuralnetwork( input_data, weights, bias )\n",
    "\n",
    "if result == 1:\n",
    "    print(\"The person is at risk of developing cancer.\")\n",
    "else:\n",
    "    print(\"The person is not at risk of developing cancer.\")    "
   ]
  }
 ],
 "metadata": {
  "kernelspec": {
   "display_name": "Python 3",
   "language": "python",
   "name": "python3"
  },
  "language_info": {
   "codemirror_mode": {
    "name": "ipython",
    "version": 3
   },
   "file_extension": ".py",
   "mimetype": "text/x-python",
   "name": "python",
   "nbconvert_exporter": "python",
   "pygments_lexer": "ipython3",
   "version": "3.13.1"
  }
 },
 "nbformat": 4,
 "nbformat_minor": 2
}
