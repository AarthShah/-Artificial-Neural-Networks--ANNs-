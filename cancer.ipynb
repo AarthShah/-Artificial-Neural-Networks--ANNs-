{
 "cells": [
  {
   "cell_type": "code",
   "execution_count": 11,
   "metadata": {},
   "outputs": [],
   "source": [
    "def ArtificalNuralnetwork(input_data, weights, bias):\n",
    "\t# Calculate the weighted sum of inputs\n",
    "\tweight_sum = sum(i * w for i, w in zip(input_data, weights))\n",
    "\t\n",
    "\t# Apply activation function (e.g., sigmoid)\n",
    "\tweight_sum += bias\n",
    "\tif weight_sum > 0:\n",
    "\t\treturn 1\n",
    "\t\n",
    "\treturn 0"
   ]
  },
  {
   "cell_type": "code",
   "execution_count": 12,
   "metadata": {},
   "outputs": [],
   "source": [
    "# Lifestyle risk factors (alcohol, smoking, tobacco)\n",
    "lifestyle_risk = int(input(\"Enter the number of things the person does from (Alcohol Consumption, Smoking, and Tobacco): \"))\n",
    "\n",
    "# Symptoms related to digestive issues (abdominal pain, blood in stool, difficulty swallowing)\n",
    "digestive_symptoms = int(input(\"Enter the number of symptoms the person has from (Abdominal Pain, Blood in Stool, Difficulty Swallowing): \"))\n",
    "\n",
    "# Respiratory symptoms (persistent cough, shortness of breath, coughing up blood)\n",
    "respiratory_symptoms = int(input(\"Enter the number of symptoms the person has from (Persistent Cough, Shortness of Breath, Coughing Up Blood): \"))\n",
    "\n",
    "# Genetic and family history (family cancer history, genetic mutations)\n",
    "genetic_history = int(input(\"Enter the number of things the person has from (Family Cancer History, Genetic Mutations): \"))\n",
    "\n",
    "# Physical symptoms (unexplained weight loss, persistent fatigue)\n",
    "physical_symptoms = int(input(\"Enter the number of symptoms the person has from (Unexplained Weight Loss, Persistent Fatigue): \"))\n",
    "\n",
    "# Workplace/environmental exposures (chemical exposure, radiation exposure, asbestos exposure)\n",
    "environmental_exposures = int(input(\"Enter the number of exposures the person has from (Chemical Exposure, Radiation Exposure, Asbestos Exposure): \"))\n"
   ]
  },
  {
   "cell_type": "code",
   "execution_count": 13,
   "metadata": {},
   "outputs": [],
   "source": [
    "input_data = [lifestyle_risk, digestive_symptoms, respiratory_symptoms, genetic_history, physical_symptoms, environmental_exposures]\n",
    "weights = [0.304, 0.2, 0.6, 0.43, 0.3, 0.7]\n",
    "bias=-1.2"
   ]
  },
  {
   "cell_type": "code",
   "execution_count": null,
   "metadata": {},
   "outputs": [],
   "source": [
    "result = ArtificalNuralnetwork( input_data, weights, bias )\n",
    "\n",
    "if result == 1:\n",
    "    print(\"The person is at risk of developing cancer.\")\n",
    "else:\n",
    "    print(\"The person is not at risk of developing cancer.\")    "
   ]
  }
 ],
 "metadata": {
  "kernelspec": {
   "display_name": "Python 3",
   "language": "python",
   "name": "python3"
  },
  "language_info": {
   "codemirror_mode": {
    "name": "ipython",
    "version": 3
   },
   "file_extension": ".py",
   "mimetype": "text/x-python",
   "name": "python",
   "nbconvert_exporter": "python",
   "pygments_lexer": "ipython3",
   "version": "3.13.1"
  }
 },
 "nbformat": 4,
 "nbformat_minor": 2
}
